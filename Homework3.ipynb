{
 "nbformat": 4,
 "nbformat_minor": 0,
 "metadata": {
  "colab": {
   "provenance": []
  },
  "kernelspec": {
   "name": "python3",
   "language": "python",
   "display_name": "Python 3 (ipykernel)"
  },
  "language_info": {
   "name": "python"
  }
 },
 "cells": [
  {
   "cell_type": "markdown",
   "source": [
    "# Homework 3"
   ],
   "metadata": {
    "id": "Lcr-JDY0EXVV"
   }
  },
  {
   "cell_type": "markdown",
   "source": [
    "Note: For the following exercises, write a program to solve the problem and\n",
    "display the answer. A possible output is shown in a shaded box and responses\n",
    "to input statements appear underlined."
   ],
   "metadata": {
    "id": "1EhEQC6IClgZ"
   }
  },
  {
   "cell_type": "markdown",
   "source": [
    "# 0. Prerequisite"
   ],
   "metadata": {
    "id": "9Q7lHrYgs0Sa"
   }
  },
  {
   "cell_type": "code",
   "source": [
    "!pip install mypy\n",
    "from IPython.core.magic import register_cell_magic\n",
    "from IPython import get_ipython\n",
    "from mypy import api\n",
    "\n",
    "@register_cell_magic\n",
    "def mypy(line, cell):\n",
    "  for output in api.run(['-c', '\\n' + cell] + line.split()):\n",
    "    if output and not output.startswith('Success'):\n",
    "      raise TypeError(output)\n",
    "  get_ipython().run_cell(cell)"
   ],
   "metadata": {
    "id": "hZQ2WhH-szzj",
    "ExecuteTime": {
     "start_time": "2023-04-11T22:59:20.777131Z",
     "end_time": "2023-04-11T22:59:29.964902Z"
    }
   },
   "execution_count": 1,
   "outputs": [
    {
     "name": "stdout",
     "output_type": "stream",
     "text": [
      "Collecting mypy\n",
      "  Downloading mypy-1.2.0-cp310-cp310-win_amd64.whl (8.9 MB)\n",
      "     ---------------------------------------- 8.9/8.9 MB 22.8 MB/s eta 0:00:00\n",
      "Collecting tomli>=1.1.0\n",
      "  Downloading tomli-2.0.1-py3-none-any.whl (12 kB)\n",
      "Collecting mypy-extensions>=1.0.0\n",
      "  Downloading mypy_extensions-1.0.0-py3-none-any.whl (4.7 kB)\n",
      "Collecting typing-extensions>=3.10\n",
      "  Downloading typing_extensions-4.5.0-py3-none-any.whl (27 kB)\n",
      "Installing collected packages: typing-extensions, tomli, mypy-extensions, mypy\n",
      "Successfully installed mypy-1.2.0 mypy-extensions-1.0.0 tomli-2.0.1 typing-extensions-4.5.0\n"
     ]
    },
    {
     "name": "stderr",
     "output_type": "stream",
     "text": [
      "\n",
      "[notice] A new release of pip available: 22.3.1 -> 23.0.1\n",
      "[notice] To update, run: python.exe -m pip install --upgrade pip\n"
     ]
    }
   ]
  },
  {
   "cell_type": "markdown",
   "source": [
    "## 1. Mortgage Calculations\n",
    "\n",
    "Write a program to calculate three monthly values associated with a mortgage. \n",
    "\n",
    "* The interest paid each month is the monthly rate of interest (annual rate of interest / 12) applied to the balance at the beginning of the month. \n",
    "\n",
    "* Each month the reduction of principal(원금 감소액) equals the monthly payment minus the interest paid. At any time, the balance of the mortgage is the amount still owed—that is, the amount required to pay off the mortgage. \n",
    "\n",
    "* The end of month balance is calculated as [beginning of month balance] - [reduction of principal]. \n",
    "\n",
    "The main function should call three functions—one (multi-valued) for input, one (multi-valued) to calculate the values, and one for output.\n",
    "\n",
    "Output:\n",
    "```\n",
    "Enter annual rate of interest: 5\n",
    "Enter monthly payment: 1932.56\n",
    "Enter beginning of month balance: 357819.11\n",
    "Interest paid for the month: $1,490.91\n",
    "Reduction of principal: $441.65\n",
    "End of month balance: $357,377.46\n",
    "```"
   ],
   "metadata": {
    "id": "A4Ks_D_PCrrI"
   }
  },
  {
   "cell_type": "code",
   "execution_count": null,
   "outputs": [],
   "source": [],
   "metadata": {
    "collapsed": false
   }
  },
  {
   "cell_type": "code",
   "execution_count": 13,
   "outputs": [
    {
     "name": "stdout",
     "output_type": "stream",
     "text": [
      "Interest paid for the month: $1490.91\n",
      "Reduction of principal: $441.65\n",
      "End of month balance: $357,377.46\n"
     ]
    }
   ],
   "source": [
    "\n",
    "from typing import Tuple\n",
    "\n",
    "def inputFromKeyboard() -> Tuple[float, float, float]:\n",
    "    annual_rate = float(input(\"Enter annual rate of interest: \"))\n",
    "    monthly_payment = float(input(\"Enter monthly payment: \"))\n",
    "    beginning_month_balance = float(input(\"Enter beginning of month balance: \"))\n",
    "    return annual_rate, monthly_payment, beginning_month_balance\n",
    "\n",
    "def calcBalance(rate: float, monthly_payment: float, beginning_month_balance: float) -> Tuple[float, float, float]:\n",
    "    monthly_rate = rate / 12 / 100  # convert annual rate to monthly rate\n",
    "    interest = monthly_rate * beginning_month_balance\n",
    "    reduction_principal = monthly_payment - interest\n",
    "    end_month_balance = beginning_month_balance - reduction_principal\n",
    "    return interest, reduction_principal, end_month_balance\n",
    "\n",
    "def printAll(interest: float, reduction_principal: float, end_month_balance: float) -> None:\n",
    "    print(f\"Interest paid for the month: ${interest:.2f}\")\n",
    "    print(f\"Reduction of principal: ${reduction_principal:.2f}\")\n",
    "    print(f\"End of month balance: ${end_month_balance:,.2f}\")\n",
    "\n",
    "printAll(*calcBalance(*inputFromKeyboard()))\n"
   ],
   "metadata": {
    "collapsed": false,
    "pycharm": {
     "name": "#%%mypy\n"
    },
    "ExecuteTime": {
     "start_time": "2023-04-11T23:37:15.473603Z",
     "end_time": "2023-04-11T23:37:43.049692Z"
    }
   }
  },
  {
   "cell_type": "markdown",
   "source": [
    "## 2. Wilson’s Theorem\n",
    "\n",
    "A number is prime if its only factors are 1 and itself. \n",
    "\n",
    "Write a program that determines whether a number is prime by using the theorem \"The number n is a prime number if and only if n divides (n – 1)! + 1.\" \n",
    "\n",
    "The program should define a Boolean-valued function named isPrime that calls a function named factorial.\n",
    "\n",
    "```\n",
    "Enter an integer greater than 1: 37\n",
    "37 is a prime number.\n",
    "```\n",
    " "
   ],
   "metadata": {
    "id": "VZ_vsZP6C-Xk"
   }
  },
  {
   "cell_type": "code",
   "source": [
    "def factorial(n: int) -> int:\n",
    "    if n == 0:\n",
    "        return 1\n",
    "    else:\n",
    "        return n * factorial(n-1)\n",
    "\n",
    "def isPrime(n: int) -> bool:\n",
    "    if n <= 1:\n",
    "        return False\n",
    "    else:\n",
    "        factorial_n_minus_1 = factorial(n-1)\n",
    "        return factorial_n_minus_1 % n == n-1\n",
    "\n",
    "integer = int(input('Enter an integer greater than 1: '))\n",
    "if isPrime(integer):\n",
    "    print('{} is a prime number.'.format(integer))\n",
    "else:\n",
    "    print('{} is not a prime number.'.format(integer))\n"
   ],
   "metadata": {
    "id": "iorxrNcFDCUt",
    "ExecuteTime": {
     "start_time": "2023-04-11T23:44:12.716418Z",
     "end_time": "2023-04-11T23:44:14.075084Z"
    }
   },
   "execution_count": 15,
   "outputs": [
    {
     "name": "stdout",
     "output_type": "stream",
     "text": [
      "37 is a prime number.\n"
     ]
    }
   ]
  },
  {
   "cell_type": "markdown",
   "source": [
    "## 3. Alphabetical Order\n",
    "\n",
    "The following words have three consecutive letters that are also consecutive letters in the alphabet: THIRSTY, NOPE, AFGHANISTAN, STUDENT. Write a program that accepts a word as input and determines whether or not it has three consecutive letters that are consecutive letters in the alphabet. \n",
    "\n",
    "The program should use a Boolean-valued function named isTripleConsecutive that accepts an entire word as input. \n",
    "\n",
    "Hint:\n",
    "Use the ord function.\n",
    "\n",
    "```\n",
    "Enter a word: HIJACK\n",
    "HIJACK contains three successive letters in consecutive alphabetical order.\n",
    "```"
   ],
   "metadata": {
    "id": "V-bzj3X5DBzN"
   }
  },
  {
   "cell_type": "code",
   "source": [
    "def isTripleConsecutive(s: str) -> bool:\n",
    "    for i in range(len(s)-2):\n",
    "        if (ord(s[i]) == ord(s[i+1])-1) and (ord(s[i+1]) == ord(s[i+2])-1):\n",
    "            return True\n",
    "    return False\n",
    "\n",
    "for w in ['THIRSTY', 'NOPE', 'AFGHANISTAN', 'STUDENT', 'HIJACK', 'TEST', 'CAT', 'DOG']:\n",
    "    if isTripleConsecutive(w):\n",
    "        print('{} contains three successive letters in consecutive alphabetical order.'.format(w))\n",
    "    else:\n",
    "        print('{} does not contain three successive letters in consecutive alphabetical order.'.format(w))\n"
   ],
   "metadata": {
    "id": "pLTYxtZKEnP4",
    "colab": {
     "base_uri": "https://localhost:8080/"
    },
    "outputId": "b3200272-9755-4df2-bc1b-1a42e7e8b463",
    "ExecuteTime": {
     "start_time": "2023-04-11T23:47:27.862075Z",
     "end_time": "2023-04-11T23:47:27.885501Z"
    }
   },
   "execution_count": 17,
   "outputs": [
    {
     "name": "stdout",
     "output_type": "stream",
     "text": [
      "THIRSTY contains three successive letters in consecutive alphabetical order.\n",
      "NOPE contains three successive letters in consecutive alphabetical order.\n",
      "AFGHANISTAN contains three successive letters in consecutive alphabetical order.\n",
      "STUDENT contains three successive letters in consecutive alphabetical order.\n",
      "HIJACK contains three successive letters in consecutive alphabetical order.\n",
      "TEST does not contain three successive letters in consecutive alphabetical order.\n",
      "CAT does not contain three successive letters in consecutive alphabetical order.\n",
      "DOG does not contain three successive letters in consecutive alphabetical order.\n"
     ]
    }
   ]
  },
  {
   "cell_type": "markdown",
   "source": [
    "# 4. Months\n",
    "\n",
    "The file SomeMonths.txt initially contains the names of the 12 months, one per line. \n",
    "\n",
    "Write a program that deletes all months from the file that do not contain the letter r.\n",
    "\n",
    "\n",
    "```\n",
    "from google.colab import drive\n",
    "drive.mount('/content/gdrive/', force_remount=True)\n",
    "```\n"
   ],
   "metadata": {
    "id": "JeTmpMPeFivF"
   }
  },
  {
   "cell_type": "code",
   "source": [
    "from google.colab import drive\n",
    "\n",
    "drive.mount('/content/gdrive/', force_remount=True)\n",
    "\n",
    "!ls /content/gdrive/MyDrive/SomeMonths.txt"
   ],
   "metadata": {
    "id": "gqi8rgstFx3l"
   },
   "execution_count": null,
   "outputs": []
  },
  {
   "cell_type": "code",
   "source": [
    "%%mypy\n",
    "\n",
    "def remove_months_without_r(file_name: str, new_file_name: str) -> None:\n",
    "  #implement your code\n",
    "  pass\n",
    "\n",
    "def read_file(file_name: str)->None:\n",
    "  #implement your code\n",
    "  pass\n",
    "\n",
    "remove_months_without_r('/content/gdrive/MyDrive/SomeMonths.txt', '/content/gdrive/MyDrive/NewSomeMonths.txt')\n",
    "read_file('/content/gdrive/MyDrive/NewSomeMonths.txt')\n"
   ],
   "metadata": {
    "id": "QKKlhTzRG6-U"
   },
   "execution_count": null,
   "outputs": []
  },
  {
   "cell_type": "code",
   "source": [
    "!cat /content/gdrive/MyDrive/NewSomeMonths.txt"
   ],
   "metadata": {
    "id": "gGo5PZgcz1sB"
   },
   "execution_count": null,
   "outputs": []
  },
  {
   "cell_type": "markdown",
   "source": [
    "## 5. File of Names\n",
    "\n",
    "The file Names.txt contains a list of first names in alphabetical order. Write a program that requests a name from the user and inserts the name into the file in its proper location. If the name is already in the file, it should not be inserted. You should use set operations in your program.\n",
    "\n"
   ],
   "metadata": {
    "id": "0EcXiSICGkXm"
   }
  },
  {
   "cell_type": "code",
   "source": [
    "!ls /content/gdrive/MyDrive/Names.txt\n",
    "!cat /content/gdrive/MyDrive/Names.txt"
   ],
   "metadata": {
    "id": "pt6o6Gp4xw-x"
   },
   "execution_count": null,
   "outputs": []
  },
  {
   "cell_type": "code",
   "source": [
    "%%mypy\n",
    "\n",
    "def insert_name(file_name: str, new_file_name: str, name: str) -> None:\n",
    "  #implement your code\n",
    "  pass\n",
    "\n",
    "def read_file(file_name: str)->None:\n",
    "  #implement your code\n",
    "  pass\n",
    "      \n",
    "insert_name('/content/gdrive/MyDrive/Names.txt', '/content/gdrive/MyDrive/NewNames.txt', 'Bob2')\n",
    "read_file('/content/gdrive/MyDrive/NewNames.txt')"
   ],
   "metadata": {
    "id": "xLWCYhQzSEfJ"
   },
   "execution_count": null,
   "outputs": []
  },
  {
   "cell_type": "code",
   "source": [
    "!cat /content/gdrive/MyDrive/NewNames.txt"
   ],
   "metadata": {
    "id": "WCRfawcSz_AK"
   },
   "execution_count": null,
   "outputs": []
  },
  {
   "cell_type": "markdown",
   "source": [
    "## 6. Unit Conversions\n",
    "\n",
    "The following table contains some lengths in terms of feet. \n",
    "\n",
    "Write a program that displays the nine different units of measure; requests the unit to convert from, the unit to convert to, and the quantity to be converted; and then displays the converted quantity. \n",
    "\n",
    "A typical outcome is shown in the shaded box below. \n",
    "\n",
    "Use the file Units.txt to create a dictionary that provides the number of feet for a given unit of length. \n",
    "\n",
    "The first two lines of the file are inches, .083333; furlongs,660.\n",
    "<br><br>\n",
    "\n",
    "Equivalent lengths.\n",
    "\n",
    "|   |   |\n",
    "|---|---|\n",
    "|  1 inch = .083333 foot |  1 rod = 16.5 feet |\n",
    "|  1 yard = 3 feet |  1 furlong = 660 feet |\n",
    "|  1 meter = 3.28155 feet |  1 kilometer = 3281.5 feet |\n",
    "|  1 fathom = 6 feet |  1 mile = 5280 feet |\n",
    "\n",
    "```\n",
    "UNITS OF LENGTH\n",
    "inches\n",
    "feet\n",
    "meters\n",
    "fathoms\n",
    "kilometers furlongs\n",
    "miles\n",
    "yards\n",
    "rods\n",
    "Unit to convert from: yards\n",
    "Unit to convert to: miles\n",
    "Enter length in yards: 555\n",
    "Length in miles: 0.3153\n",
    "```\n"
   ],
   "metadata": {
    "id": "0Hrmx03Kwwp9"
   }
  },
  {
   "cell_type": "code",
   "source": [
    "%%mypy\n",
    "\n",
    "from typing import Dict\n",
    "\n",
    "def create_units_dict(file_name: str) -> Dict:\n",
    "  #implement your code\n",
    "  pass\n",
    "\n",
    "def convert(units: Dict, quantity: float, from_unit: str, to_unit: str) -> float:\n",
    "  #implement your code\n",
    "  pass\n",
    "\n",
    "\n",
    "print('''UNITS OF LENGTH\n",
    "inches feet miles\n",
    "meters fathoms yards\n",
    "kilometers furlongs rods\n",
    "''')\n",
    "\n",
    "from_unit = input('Unit to convert from: ')\n",
    "to_unit = input('Unit to convert to: ')\n",
    "quantity = float(input('Enter length in {}: '.format(from_unit)))\n",
    "#from_unit = 'yards'\n",
    "#to_unit = 'miles'\n",
    "#quantity = 555\n",
    "units = create_units_dict('/content/gdrive/MyDrive/Units.txt')\n",
    "#print(units)\n",
    "print('Length in miles: {:.4f}'.format(convert(units, quantity, from_unit, to_unit)))"
   ],
   "metadata": {
    "id": "-b93hFvVw2ko"
   },
   "execution_count": null,
   "outputs": []
  }
 ]
}
